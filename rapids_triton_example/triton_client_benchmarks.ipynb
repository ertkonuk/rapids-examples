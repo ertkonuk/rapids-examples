{
 "cells": [
  {
   "cell_type": "markdown",
   "id": "cf45364f-bbf7-458c-9c35-e475c102484c",
   "metadata": {},
   "source": [
    "# Notebook to benchmark RAPIDS+Pytorch vs Huggingface tokenizer with Triton\n",
    "\n",
    "This notebook calls a ensemble model which uses RAPIDS+Pytorch with Triton\n",
    "\n",
    "\n",
    "<img src=\"notebook_images/ensemble_rapids_simple.jpg\" width=\"300\" height=\"400\">"
   ]
  },
  {
   "cell_type": "markdown",
   "id": "df2ca165-da53-4319-823a-8bb670386ca0",
   "metadata": {},
   "source": [
    "### Client Setup"
   ]
  },
  {
   "cell_type": "code",
   "execution_count": null,
   "id": "60080a0e-9c82-4290-b4cd-21fc66599817",
   "metadata": {},
   "outputs": [],
   "source": [
    "# !pip install nvidia-pyindex\n",
    "# !pip install tritonclient[all]"
   ]
  },
  {
   "cell_type": "markdown",
   "id": "13897c7a-e6e6-4220-97e3-647f40d51488",
   "metadata": {},
   "source": [
    "### Import Libraries"
   ]
  },
  {
   "cell_type": "code",
   "execution_count": 1,
   "id": "67753be1-6a95-4744-8987-f3d66b997dbf",
   "metadata": {},
   "outputs": [],
   "source": [
    "import numpy as np\n",
    "import json\n",
    "\n",
    "import grpc\n",
    "from tritonclient.grpc import service_pb2\n",
    "from tritonclient.grpc import service_pb2_grpc\n",
    "import tritonclient.grpc as grpcclient\n",
    "from functools import partial"
   ]
  },
  {
   "cell_type": "markdown",
   "id": "eb2ee0ed-1ad1-4bfb-86ee-8b9c4787132c",
   "metadata": {},
   "source": [
    "###  Connect to the Triton End to End Model "
   ]
  },
  {
   "cell_type": "code",
   "execution_count": 2,
   "id": "800b69f8-4e40-42f4-a5b0-3ab1df020f99",
   "metadata": {},
   "outputs": [],
   "source": [
    "url='localhost:8001'\n",
    "\n",
    "triton_client = grpcclient.InferenceServerClient(url=url,verbose=False)\n",
    "\n",
    "channel = grpc.insecure_channel(url)\n",
    "grpc_stub = service_pb2_grpc.GRPCInferenceServiceStub(channel)"
   ]
  },
  {
   "cell_type": "code",
   "execution_count": 3,
   "id": "f9435c10-adef-4d23-a225-35905d0abafc",
   "metadata": {},
   "outputs": [
    {
     "name": "stdout",
     "output_type": "stream",
     "text": [
      "model metadata:\n",
      "name: \"end_to_end_pytorch_rapids\"\n",
      "versions: \"1\"\n",
      "platform: \"ensemble\"\n",
      "inputs {\n",
      "  name: \"product_reviews\"\n",
      "  datatype: \"BYTES\"\n",
      "  shape: -1\n",
      "  shape: -1\n",
      "}\n",
      "outputs {\n",
      "  name: \"preds\"\n",
      "  datatype: \"INT32\"\n",
      "  shape: -1\n",
      "  shape: -1\n",
      "}\n",
      "\n"
     ]
    }
   ],
   "source": [
    "#preprocessing_model = 'end_to_end_onnx'\n",
    "#preprocessing_model = 'rapids_tokenizer'\n",
    "preprocessing_model = 'end_to_end_pytorch_rapids'\n",
    "request = service_pb2.ModelMetadataRequest(name=preprocessing_model,\n",
    "                                           version='1')\n",
    "response = grpc_stub.ModelMetadata(request)\n",
    "print(\"model metadata:\\n{}\".format(response))"
   ]
  },
  {
   "cell_type": "markdown",
   "id": "ae25bc4a",
   "metadata": {},
   "source": [
    "### Define functions for tokenization and end-to-end inference"
   ]
  },
  {
   "cell_type": "code",
   "execution_count": 4,
   "id": "f482b67e-8ae8-4f46-9131-36b4696ee74d",
   "metadata": {},
   "outputs": [],
   "source": [
    "def send_preprocess_request(log_ar, model_name='rapids_tokenizer'):\n",
    "    triton_client = grpcclient.InferenceServerClient(url=url,verbose=False)\n",
    "    input_grpc = grpcclient.InferInput(\"product_reviews\",log_ar.shape,\"BYTES\")\n",
    "    input_grpc.set_data_from_numpy(log_ar)\n",
    "\n",
    "    outputs = []\n",
    "    outputs.append(grpcclient.InferRequestedOutput('input_ids'))\n",
    "    outputs.append(grpcclient.InferRequestedOutput('attention_mask'))\n",
    "\n",
    "    \n",
    "    output = triton_client.infer(model_name=model_name,\n",
    "                               inputs=[input_grpc],\n",
    "                              outputs=outputs)\n",
    "    \n",
    "\n",
    "\n",
    "    return output"
   ]
  },
  {
   "cell_type": "code",
   "execution_count": 5,
   "id": "a1ad33b0-a115-48c6-a042-c626ac8d4010",
   "metadata": {},
   "outputs": [],
   "source": [
    "def send_inference_request(log_ar, model_name='end_to_end_pytorch_rapids'):\n",
    "    triton_client = grpcclient.InferenceServerClient(url=url,verbose=False)\n",
    "    input_grpc = grpcclient.InferInput(\"product_reviews\",log_ar.shape,\"BYTES\")\n",
    "    input_grpc.set_data_from_numpy(log_ar)\n",
    "    outputs = []\n",
    "    outputs.append(grpcclient.InferRequestedOutput('preds'))\n",
    "    \n",
    "    output = triton_client.infer(model_name=model_name,\n",
    "                               inputs=[input_grpc],\n",
    "                              outputs=outputs)\n",
    "    \n",
    "\n",
    "    return output\n"
   ]
  },
  {
   "cell_type": "markdown",
   "id": "3328c4d8-df21-49d7-b64a-21919fc1fc83",
   "metadata": {},
   "source": [
    "## Test if the inference is correct with both tokenizers"
   ]
  },
  {
   "cell_type": "markdown",
   "id": "e26d681d-8d82-4dcf-9242-ca2def348a38",
   "metadata": {},
   "source": [
    "##  Predictions\n",
    "\n",
    "##### 1 is positive, 0 is negative"
   ]
  },
  {
   "cell_type": "code",
   "execution_count": 6,
   "id": "9f88224e-5b55-4f23-8036-ff36ef97d3a7",
   "metadata": {},
   "outputs": [],
   "source": [
    "#log_ls = ['The product is great', 'This product is bad','This product is good', 'This product is really bad']*1\n",
    "log_ls = ['The product is great']*1\n",
    "log_ls = [l.encode('utf-8') for l in log_ls]\n",
    "log_ar = np.array(log_ls).reshape(1,len(log_ls))"
   ]
  },
  {
   "cell_type": "code",
   "execution_count": 7,
   "id": "7492f1c7-d02b-46e4-82fe-6c26c4fbd9cc",
   "metadata": {},
   "outputs": [
    {
     "data": {
      "text/plain": [
       "array([[1]], dtype=int32)"
      ]
     },
     "execution_count": 7,
     "metadata": {},
     "output_type": "execute_result"
    }
   ],
   "source": [
    "# RAPIDS\n",
    "#output = send_inference_request(np.concatenate((log_ar,log_ar), axis=0).squeeze(),'end_to_end_pytorch_rapids')\n",
    "output = send_inference_request(log_ar,'end_to_end_pytorch_rapids')\n",
    "output.as_numpy('preds')"
   ]
  },
  {
   "cell_type": "code",
   "execution_count": 8,
   "id": "8c33fdc4",
   "metadata": {},
   "outputs": [
    {
     "data": {
      "text/plain": [
       "array([[1]], dtype=int32)"
      ]
     },
     "execution_count": 8,
     "metadata": {},
     "output_type": "execute_result"
    }
   ],
   "source": [
    "# Huggingface\n",
    "output = send_inference_request(log_ar,'end_to_end_pytorch_huggingface')\n",
    "output.as_numpy('preds')"
   ]
  },
  {
   "cell_type": "code",
   "execution_count": null,
   "id": "b611d780",
   "metadata": {},
   "outputs": [],
   "source": [
    "np.concatenate((log_ar,log_ar), axis=0).shape"
   ]
  },
  {
   "cell_type": "markdown",
   "id": "d778d44d",
   "metadata": {},
   "source": [
    "## Benchmark RAPIDS vs Huggingface tokenizers"
   ]
  },
  {
   "cell_type": "markdown",
   "id": "5efa449e",
   "metadata": {},
   "source": [
    "##### Utility functions from https://github.com/ELS-RD/transformer-deploy.git"
   ]
  },
  {
   "cell_type": "code",
   "execution_count": null,
   "id": "c1f2e3da",
   "metadata": {},
   "outputs": [],
   "source": [
    "import time\n",
    "from contextlib import contextmanager\n",
    "from typing import Dict, List, Tuple, Union\n",
    "def print_timings(name: str, timings: List[float]) -> None:\n",
    "    \"\"\"\n",
    "    Format and print inference latencies.\n",
    "    :param name: inference engine name\n",
    "    :param timings: latencies measured during the inference\n",
    "    \"\"\"\n",
    "    mean_time = 1e3 * np.mean(timings)\n",
    "    std_time = 1e3 * np.std(timings)\n",
    "    min_time = 1e3 * np.min(timings)\n",
    "    max_time = 1e3 * np.max(timings)\n",
    "    median, percent_95_time, percent_99_time = 1e3 * np.percentile(timings, [50, 95, 99])\n",
    "    print(\n",
    "        f\"[{name}] \"\n",
    "        f\"mean={mean_time:.2f}ms, \"\n",
    "        f\"sd={std_time:.2f}ms, \"\n",
    "        f\"min={min_time:.2f}ms, \"\n",
    "        f\"max={max_time:.2f}ms, \"\n",
    "        f\"median={median:.2f}ms, \"\n",
    "        f\"95p={percent_95_time:.2f}ms, \"\n",
    "        f\"99p={percent_99_time:.2f}ms\"\n",
    "    )\n",
    "\n",
    "@contextmanager\n",
    "def track_infer_time(buffer: List[int]) -> None:\n",
    "    \"\"\"\n",
    "    A context manager to perform latency measures\n",
    "    :param buffer: a List where to save latencies for each input\n",
    "    \"\"\"\n",
    "    start = time.perf_counter()\n",
    "    yield\n",
    "    end = time.perf_counter()\n",
    "    buffer.append(end - start)"
   ]
  },
  {
   "cell_type": "markdown",
   "id": "13a429b4-edc9-4518-9dd5-03df58956c65",
   "metadata": {},
   "source": [
    "### Prepare Input \n",
    "##### Generate input of variable number of sequences and seq length"
   ]
  },
  {
   "cell_type": "code",
   "execution_count": null,
   "id": "6fdf94ec",
   "metadata": {},
   "outputs": [],
   "source": [
    "def prepare_input(sentence=\"This product is great\", lenfac=100, num_seq=100):\n",
    "\n",
    "    sentence = sentence * lenfac\n",
    "    log_ls = [sentence] * num_seq\n",
    "    log_ls = [l.encode('utf-8') for l in log_ls]\n",
    "    \n",
    "    return np.array(log_ls).reshape(1,len(log_ls))"
   ]
  },
  {
   "cell_type": "markdown",
   "id": "13a429b4-edc9-4518-9dd5-03df58956c65",
   "metadata": {},
   "source": [
    "### Prepare Input \n",
    "##### Randomly selected 100 rows from Gutenburg"
   ]
  },
  {
   "cell_type": "code",
   "execution_count": null,
   "id": "0e95ebdd",
   "metadata": {},
   "outputs": [],
   "source": [
    "data='''This text is included to make sure Unicode is handled properly: 力加勝北区ᴵᴺᵀᵃছজটডণত\n",
    "This sample text is public domain and was randomly selected from Project Guttenberg.\n",
    "The rain had only ceased with the gray streaks of morning at Blazing Star, and the settlement awoke to a moral sense of cleanliness, and the finding of forgotten knives, tin cups, and smaller camp utensils, where the heavy showers had washed away the debris and dust heaps before the cabin doors.\n",
    "Indeed, it was recorded in Blazing Star that a fortunate early riser had once picked up on the highway a solid chunk of gold quartz which the rain had freed from its incumbering soil, and washed into immediate and glittering popularity.\n",
    "Possibly this may have been the reason why early risers in that locality, during the rainy season, adopted a thoughtful habit of body, and seldom lifted their eyes to the rifted or india-ink washed skies above them.\n",
    "\"Cass\" Beard had risen early that morning, but not with a view to discovery.\n",
    "A leak in his cabin roof,--quite consistent with his careless, improvident habits,--had roused him at 4 A. M., with a flooded \"bunk\" and wet blankets.\n",
    "The chips from his wood pile refused to kindle a fire to dry his bed-clothes, and he had recourse to a more provident neighbor's to supply the deficiency.\n",
    "This was nearly opposite.\n",
    "Mr. Cassius crossed the highway, and stopped suddenly.\n",
    "But the Goblin could no longer sit quietly listening to the wisdom and intellect downstairs. No, as soon as the light shone in the evening from the attic it seemed to him as though its beams were strong ropes dragging him up, and he had to go and peep through the key-hole. There he felt the sort of feeling we have looking at the great rolling sea in a storm, and he burst into tears. He could not himself say why he wept, but in spite of his tears he felt quite happy. How beautiful it must be to sit under that tree with the student, but that he could not do; he had to content himself with the key-hole and be happy there!\n",
    "But, wonderful to relate, not an irregular, shapeless fragment of crude ore, fresh from Nature's crucible, but a bit of jeweler's handicraft in the form of a plain gold ring.\n",
    "Looking at it more attentively, he saw that it bore the inscription, \"May to Cass.\"\n",
    "Like most of his fellow gold-seekers, Cass was superstitious.\n",
    "The fountain of classic wisdom, Hypatia herself.\n",
    "As the ancient sage--the name is unimportant to a monk--pumped water nightly that he might study by day, so I, the guardian of cloaks and parasols, at the sacred doors of her lecture-room, imbibe celestial knowledge.\n",
    "From my youth I felt in me a soul above the matter-entangled herd.\n",
    "She revealed to me the glorious fact, that I am a spark of Divinity itself.\n",
    "A fallen star, I am, sir!' continued he, pensively, stroking his lean stomach--'a fallen star!--fallen, if the dignity of philosophy will allow of the simile, among the hogs of the lower world--indeed, even into the hog-bucket itself. Well, after all, I will show you the way to the Archbishop's.\n",
    "There is a philosophic pleasure in opening one's treasures to the modest young.\n",
    "Perhaps you will assist me by carrying this basket of fruit?' And the little man jumped up, put his basket on Philammon's head, and trotted off up a neighbouring street.\n",
    "Philammon followed, half contemptuous, half wondering at what this philosophy might be, which could feed the self-conceit of anything so abject as his ragged little apish guide;\n",
    "but the novel roar and whirl of the street, the perpetual stream of busy faces, the line of curricles, palanquins, laden asses, camels, elephants, which met and passed him, and squeezed him up steps and into doorways, as they threaded their way through the great Moon-gate into the ample street beyond, drove everything from his mind but wondering curiosity, and a vague, helpless dread of that great living wilderness, more terrible than any dead wilderness of sand which he had left behind.\n",
    "Already he longed for the repose, the silence of the Laura--for faces which knew him and smiled upon him; but it was too late to turn back now.\n",
    "His guide held on for more than a mile up the great main street, crossed in the centre of the city, at right angles, by one equally magnificent, at each end of which, miles away, appeared, dim and distant over the heads of the living stream of passengers, the yellow sand-hills of the desert;\n",
    "while at the end of the vista in front of them gleamed the blue harbour, through a network of countless masts.\n",
    "At last they reached the quay at the opposite end of the street;\n",
    "and there burst on Philammon's astonished eyes a vast semicircle of blue sea, ringed with palaces and towers.\n",
    "He stopped involuntarily; and his little guide stopped also, and looked askance at the young monk, to watch the effect which that grand panorama should produce on him.\n",
    "Nana also troubled him in another way. He had sometimes a feeling that she did not admire him. “I know she admires you tremendously, George,”\n",
    "Mrs. Darling would assure him, and then she would sign to the children to be specially nice to father. Lovely dances followed, in which the only other servant, Liza, was sometimes allowed to join. \n",
    "Such a midget she looked in her long skirt and maid's cap, though she had sworn, when engaged, that she would never see ten again. \n",
    "The gaiety of those romps!\n",
    "And gayest of all was Mrs. Darling, who would pirouette so wildly that all you could see of her was the kiss, and then if you had dashed at her you might have got it. \n",
    "There never was a simpler happier family until the coming of Peter Pan.\n",
    "Finally, I always go to sea as a sailor, because of the wholesome exercise and pure air of the fore-castle deck. \n",
    "For as in this world, head winds are far more prevalent than winds from astern (that is, if you never violate the Pythagorean maxim), so for the most part the Commodore on the quarter-deck gets his atmosphere at second hand from the sailors on the forecastle. He thinks he breathes it first; but not so. \n",
    "In much the same way do the commonalty lead their leaders in many other things, at the same time that the leaders little suspect it. \n",
    "But wherefore it was that after having repeatedly smelt the sea as a merchant sailor, I should now take it into my head to go on a whaling voyage; this the invisible police officer of the Fates, who has the constant surveillance of me, and secretly dogs me, and influences me in some unaccountable way—he can better answer than any one else. \n",
    "And, doubtless, my going on this whaling voyage, formed part of the grand programme of Providence that was drawn up a long time ago. \n",
    "It came in as a sort of brief interlude and solo between more extensive performances. \n",
    "I take it that this part of the bill must have run something like this:\n",
    "“_Grand Contested Election for the Presidency of the United States._\n",
    "“WHALING VOYAGE BY ONE ISHMAEL. “BLOODY BATTLE IN AFFGHANISTAN.”\n",
    "Amy followed, but she poked her hands out stiffly before her, and jerked herself along as if she went by machinery, and her \"Ow!\" was more suggestive of pins being run into her than of fear and anguish.\n",
    "Jo gave a despairing groan, and Meg laughed outright, while Beth let her bread burn as she watched the fun with interest. \n",
    "\"It's no use!  Do the best you can when the time comes, and if the audience laughs, don't blame me.  Come on, Meg.\"\n",
    "Then things went smoothly, for Don Pedro defied the world in a speech of two pages without a single break.  Hagar, the witch, chanted an awful incantation over her kettleful of simmering toads, with weird effect.  \n",
    "Roderigo rent his chains asunder manfully, and Hugo died in agonies of remorse and arsenic, with a wild, \"Ha! Ha!\"\n",
    "This text is included to make sure Unicode is handled properly: 力加勝北区ᴵᴺᵀᵃছজটডণত\n",
    "This sample text is public domain and was randomly selected from Project Guttenberg.\n",
    "The rain had only ceased with the gray streaks of morning at Blazing Star, and the settlement awoke to a moral sense of cleanliness, and the finding of forgotten knives, tin cups, and smaller camp utensils, where the heavy showers had washed away the debris and dust heaps before the cabin doors.\n",
    "Indeed, it was recorded in Blazing Star that a fortunate early riser had once picked up on the highway a solid chunk of gold quartz which the rain had freed from its incumbering soil, and washed into immediate and glittering popularity.\n",
    "Possibly this may have been the reason why early risers in that locality, during the rainy season, adopted a thoughtful habit of body, and seldom lifted their eyes to the rifted or india-ink washed skies above them.\n",
    "\"Cass\" Beard had risen early that morning, but not with a view to discovery.\n",
    "A leak in his cabin roof,--quite consistent with his careless, improvident habits,--had roused him at 4 A. M., with a flooded \"bunk\" and wet blankets.\n",
    "The chips from his wood pile refused to kindle a fire to dry his bed-clothes, and he had recourse to a more provident neighbor's to supply the deficiency.\n",
    "This was nearly opposite.\n",
    "Mr. Cassius crossed the highway, and stopped suddenly.\n",
    "Something glittered in the nearest red pool before him.\n",
    "I had one experience with Master Philip before our visitors betook themselves back to Kent, which, unfortunate as it was, I cannot but relate here. My cousin would enter into none of those rough amusements in which I passed my time, for fear, I took it, of spoiling his fine broadcloths or of losing a gold buckle. He never could be got to wrestle, though I challenged him more than once. And he was a well-built lad, and might, with a little practice, have become skilled in that sport. He laughed at the homespun I wore about the farm, saying it was no costume for a gentleman's son, and begged me sneeringly to don leather breeches. He would have none of the company of those lads with whom I found pleasure, young Harvey, and Willis's son, who was being trained as Mr. Starkie's assistant. Nor indeed did I disdain to join in a game with Hugo, who had been given to me, and other negro lads. Philip saw no sport in a wrestle or a fight between two of the boys from the quarters, and marvelled that I could lower myself to bet with Harvey the younger. He took not a spark of interest in the gaming cocks we raised together to compete at the local contests and at the fair, and knew not a gaff from a cockspur. Being one day at my wits' end to amuse my cousin, I proposed to him a game of quoits on the green beside the spring-house, and thither we repaired, followed by Hugo, and young Harvey come to look on. Master Philip, not casting as well as he might, cries out suddenly to Hugo: \"Begone, you black dog! What business have you here watching a game between gentlemen?\"\n",
    "But, wonderful to relate, not an irregular, shapeless fragment of crude ore, fresh from Nature's crucible, but a bit of jeweler's handicraft in the form of a plain gold ring.\n",
    "Looking at it more attentively, he saw that it bore the inscription, \"May to Cass.\"\n",
    "Like most of his fellow gold-seekers, Cass was superstitious.\n",
    "The fountain of classic wisdom, Hypatia herself.\n",
    "As the ancient sage--the name is unimportant to a monk--pumped water nightly that he might study by day, so I, the guardian of cloaks and parasols, at the sacred doors of her lecture-room, imbibe celestial knowledge.\n",
    "From my youth I felt in me a soul above the matter-entangled herd.\n",
    "She revealed to me the glorious fact, that I am a spark of Divinity itself.\n",
    "A fallen star, I am, sir!' continued he, pensively, stroking his lean stomach--'a fallen star!--fallen, if the dignity of philosophy will allow of the simile, among the hogs of the lower world--indeed, even into the hog-bucket itself. Well, after all, I will show you the way to the Archbishop's.\n",
    "There is a philosophic pleasure in opening one's treasures to the modest young.\n",
    "Perhaps you will assist me by carrying this basket of fruit?' And the little man jumped up, put his basket on Philammon's head, and trotted off up a neighbouring street.\n",
    "Philammon followed, half contemptuous, half wondering at what this philosophy might be, which could feed the self-conceit of anything so abject as his ragged little apish guide;\n",
    "but the novel roar and whirl of the street, the perpetual stream of busy faces, the line of curricles, palanquins, laden asses, camels, elephants, which met and passed him, and squeezed him up steps and into doorways, as they threaded their way through the great Moon-gate into the ample street beyond, drove everything from his mind but wondering curiosity, and a vague, helpless dread of that great living wilderness, more terrible than any dead wilderness of sand which he had left behind.\n",
    "Already he longed for the repose, the silence of the Laura--for faces which knew him and smiled upon him; but it was too late to turn back now.\n",
    "His guide held on for more than a mile up the great main street, crossed in the centre of the city, at right angles, by one equally magnificent, at each end of which, miles away, appeared, dim and distant over the heads of the living stream of passengers, the yellow sand-hills of the desert;\n",
    "while at the end of the vista in front of them gleamed the blue harbour, through a network of countless masts.\n",
    "and there burst on Philammon's astonished eyes a vast semicircle of blue sea, ringed with palaces and towers.\n",
    "He stopped involuntarily; and his little guide stopped also, and looked askance at the young monk, to watch the effect which that grand panorama should produce on him.\n",
    "Nana also troubled him in another way. He had sometimes a feeling that she did not admire him. “I know she admires you tremendously, George,”\n",
    "Mrs. Darling would assure him, and then she would sign to the children to be specially nice to father. Lovely dances followed, in which the only other servant, Liza, was sometimes allowed to join. \n",
    "Such a midget she looked in her long skirt and maid's cap, though she had sworn, when engaged, that she would never see ten again. \n",
    "In the Year 1676, the Prince of _Orange_ having, in concert with the _Spaniards_, resolv'd upon the important Siege of _Maestrich_ (the only Town in the _Dutch_ Provinces, then remaining in the Hands of the _French_) it was accordingly invested about the middle of _June_, with an Army of twenty Thousand Men, under the Command of his Highness Prince\n",
    "_Waldeck_, with the grand Army covering the Siege. It was some Time before the heavy Cannon, which we expected up the _Maes_, from _Holland_, arrived; which gave Occasion to a Piece of Raillery of Monsieur _Calvo_, the Governor, which was as handsomely repartec'd. That Governor, by a Messenger, intimating his Sorrow to find, we had pawn'd our Cannon for Ammunition Bread. Answer was made, That in a few Days we hoped to give him a Taste of the Loaves, which he should find would be sent him into the Town in extraordinary plenty. I remember another Piece of Raillery, which pass'd some Days after between the _Rhingrave_ and the same _Calvo_. The former sending Word, that he hoped within three Weeks to salute that Governor's Mistress within the Place. _Calvo_ reply'd, He'd give him leave to kiss her all over, if he kiss'd her anywhere in three Months.\n",
    "And gayest of all was Mrs. Darling, who would pirouette so wildly that all you could see of her was the kiss, and then if you had dashed at her you might have got it. \n",
    "There never was a simpler happier family until the coming of Peter Pan.\n",
    "Finally, I always go to sea as a sailor, because of the wholesome exercise and pure air of the fore-castle deck. \n",
    "For as in this world, head winds are far more prevalent than winds from astern (that is, if you never violate the Pythagorean maxim), so for the most part the Commodore on the quarter-deck gets his atmosphere at second hand from the sailors on the forecastle. He thinks he breathes it first; but not so. \n",
    "In much the same way do the commonalty lead their leaders in many other things, at the same time that the leaders little suspect it. \n",
    "But wherefore it was that after having repeatedly smelt the sea as a merchant sailor, I should now take it into my head to go on a whaling voyage; this the invisible police officer of the Fates, who has the constant surveillance of me, and secretly dogs me, and influences me in some unaccountable way—he can better answer than any one else. \n",
    "And, doubtless, my going on this whaling voyage, formed part of the grand programme of Providence that was drawn up a long time ago. \n",
    "It came in as a sort of brief interlude and solo between more extensive performances. \n",
    "The British Isles have been ringing for the last few years with the word 'Art' in its German sense; with 'High Art,' 'Symbolic Art,' 'Ecclesiastical Art,' 'Dramatic Art,' 'Tragic Art,' and so forth; and every well-educated person is expected, nowadays, to know something about Art.  Yet in spite of all translations of German 'AEsthetic' treatises, and 'Kunstnovellen,' the mass of the British people cares very little about the matter, and sits contented under the imputation of 'bad taste.'  Our stage, long since dead, does not revive; our poetry is dying; our music, like our architecture, only reproduces the past; our painting is only first-rate when it handles landscapes and animals, and seems likely so to remain; but, meanwhile, nobody cares.  Some of the deepest and most earnest minds vote the question, in general, a 'sham and a snare,' and whisper to each other\n",
    "confidentially, that Gothic art is beginning to be a 'bore,' and that Sir Christopher Wren was a very good fellow after all; while the middle classes look on the Art movement half amused, as with a pretty toy, half sulkily suspicious of Popery and Paganism, and think,\n",
    "apparently, that Art is very well when it means nothing, and is merely used to beautify drawing-rooms and shawl patterns; not to mention that, if there were no painters, Mr. Smith could not hand down to posterity likenesses of himself, Mrs. Smith, and family.  But\n",
    "when 'Art' dares to be in earnest, and to mean something, much more to connect itself with religion, Smith's tone alters.  He will teach 'Art' to keep in what he considers its place, and if it refuses, take the law of it, and put it into the Ecclesiastical Court.  So he says, and what is more, he means what he says; and as all the world, from Hindostan to Canada, knows by most practical proof, what he means, he sooner or later does, perhaps not always in the wisest way, but still he does it.Ah!  It's pleasant to drop into my own easy-chair my dear though a little palpitating what with trotting up-stairs and what with trotting down, and why kitchen stairs should all be corner stairs is for the builders to justify though I do not think they fully understand their trade and never did, else why the sameness and why not more conveniences and fewer\n",
    "draughts and likewise making a practice of laying the plaster on too thick I am well convinced which holds the damp, and as to chimney-pots putting them on by guess-work like hats at a party and no more knowing what their effect will be upon the smoke bless you than I do if so much, except that it will mostly be either to send it down your throat in a straight form or give it a twist before it goes there.  And what I says speaking as I find of those new metal chimneys all manner of shapes (there's a row of 'em at Miss Wozenham's lodging-house lower down on the other side of the way) is that they only work your smoke into artificial patterns for you before you swallow it and that I'd quite as soon swallow mine plain, the flavour being the same, not to mention the conceit of putting up signs on the top of your house to show the forms in which you take your smoke into your inside\n",
    "Amy followed, but she poked her hands out stiffly before her, and jerked herself along as if she went by machinery, and her \"Ow!\" was more suggestive of pins being run into her than of fear and anguish.\n",
    "Jo gave a despairing groan, and Meg laughed outright, while Beth let her bread burn as she watched the fun with interest. \n",
    "\"It's no use!  Do the best you can when the time comes, and if the audience laughs, don't blame me.  Come on, Meg.\"\n",
    "Then things went smoothly, for Don Pedro defied the world in a speech of two pages without a single break.  Hagar, the witch, chanted an awful incantation over her kettleful of simmering toads, with weird effect.'''"
   ]
  },
  {
   "cell_type": "code",
   "execution_count": null,
   "id": "627c9c78",
   "metadata": {},
   "outputs": [],
   "source": [
    "txt_ls = data.split('\\n')\n",
    "txt_ls  = txt_ls[0:100]\n",
    "print(\"Benchmarking on number of sentences = {:,}\".format(len(txt_ls)))"
   ]
  },
  {
   "cell_type": "code",
   "execution_count": null,
   "id": "e27b6dc3",
   "metadata": {},
   "outputs": [],
   "source": [
    "txt_ls = [l.encode('utf-8') for l in txt_ls]\n",
    "txt_ar = np.array(txt_ls).reshape(1,len(txt_ls))"
   ]
  },
  {
   "cell_type": "code",
   "execution_count": null,
   "id": "af498415",
   "metadata": {},
   "outputs": [],
   "source": [
    "output = send_preprocess_request(txt_ar.squeeze(), model_name=\"rapids_tokenizer\")"
   ]
  },
  {
   "cell_type": "markdown",
   "id": "84087067",
   "metadata": {},
   "source": [
    "### Run the benchmark: with procedurally generated data"
   ]
  },
  {
   "cell_type": "code",
   "execution_count": null,
   "id": "0fb7f434",
   "metadata": {},
   "outputs": [],
   "source": [
    "# dictionary for the benchmark results\n",
    "results = {}\n",
    "\n",
    "# Sequence length\n",
    "lenfac = 64 # seq_length is 256\n",
    "\n",
    "# Benchmark parameters\n",
    "num_warmup_runs = 10\n",
    "num_bench_runs = 10\n",
    "\n",
    "num_seqs= [1, 10, 100, 1000] # number of sequences to proces\n",
    "\n",
    "# Run a preprocess (tokenization) or an end-to-end inference request\n",
    "modes = [\"preprocess\", \"inference\"] # do not put this in the loop to avoid if conditions\n",
    "\n",
    "# Backends to try: cudf (RAPIDS) vs hugf (Hugging Face)\n",
    "backends = [\"rapids\", \"huggingface\"]\n",
    "\n",
    "for num_seq in num_seqs:\n",
    "    # Input for the current benchmark\n",
    "    log_ar = prepare_input(lenfac=lenfac, num_seq=num_seq)\n",
    "\n",
    "    for backend in backends:\n",
    "        \n",
    "        # Preprocessing\n",
    "        mode = modes[0]\n",
    "        tag = \"{}_{}_{}\".format(backend, mode, num_seq)  \n",
    "        model_name = \"{}_tokenizer\".format(backend)\n",
    "        \n",
    "        # Warm up\n",
    "        for _ in range(num_warmup_runs):\n",
    "            output = send_preprocess_request(txt_ar.squeeze(), model_name=model_name)\n",
    "\n",
    "        # Benchmark\n",
    "        time_buffer = []        \n",
    "        for _ in range(num_bench_runs):\n",
    "            with track_infer_time(time_buffer):                \n",
    "                output = send_preprocess_request(txt_ar.squeeze(), model_name=model_name)\n",
    "        results[tag] = time_buffer\n",
    "\n",
    "        # Inference\n",
    "        mode = modes[1]\n",
    "        tag = \"{}_{}_{}\".format(backend, mode, num_seq)            \n",
    "        model_name = \"end_to_end_pytorch_{}\".format(backend)\n",
    "        \n",
    "        # Warm up\n",
    "        for _ in range(num_warmup_runs):\n",
    "            output = send_inference_request(log_ar, model_name=model_name)\n",
    "\n",
    "        # Benchmark\n",
    "        time_buffer = []\n",
    "        for _ in range(num_bench_runs):\n",
    "            with track_infer_time(time_buffer):\n",
    "                output = send_inference_request(log_ar, model_name=model_name)\n",
    "        results[tag] = time_buffer        "
   ]
  },
  {
   "cell_type": "code",
   "execution_count": null,
   "id": "fd4dde53",
   "metadata": {},
   "outputs": [],
   "source": [
    "for name, time_buffer in results.items():\n",
    "    print_timings(name=name, timings=time_buffer)"
   ]
  },
  {
   "cell_type": "code",
   "execution_count": null,
   "id": "3ed382e7",
   "metadata": {},
   "outputs": [],
   "source": []
  }
 ],
 "metadata": {
  "kernelspec": {
   "display_name": "Python 3 (ipykernel)",
   "language": "python",
   "name": "python3"
  },
  "language_info": {
   "codemirror_mode": {
    "name": "ipython",
    "version": 3
   },
   "file_extension": ".py",
   "mimetype": "text/x-python",
   "name": "python",
   "nbconvert_exporter": "python",
   "pygments_lexer": "ipython3",
   "version": "3.8.12"
  }
 },
 "nbformat": 4,
 "nbformat_minor": 5
}
